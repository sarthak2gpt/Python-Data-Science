{
 "cells": [
  {
   "cell_type": "code",
   "execution_count": 1,
   "id": "c883ef76",
   "metadata": {},
   "outputs": [],
   "source": [
    "import pandas as pd\n",
    "import matplotlib.pyplot as plt\n",
    "import seaborn as sns"
   ]
  },
  {
   "cell_type": "code",
   "execution_count": 2,
   "id": "8fdb14ab",
   "metadata": {},
   "outputs": [
    {
     "data": {
      "text/html": [
       "<div>\n",
       "<style scoped>\n",
       "    .dataframe tbody tr th:only-of-type {\n",
       "        vertical-align: middle;\n",
       "    }\n",
       "\n",
       "    .dataframe tbody tr th {\n",
       "        vertical-align: top;\n",
       "    }\n",
       "\n",
       "    .dataframe thead th {\n",
       "        text-align: right;\n",
       "    }\n",
       "</style>\n",
       "<table border=\"1\" class=\"dataframe\">\n",
       "  <thead>\n",
       "    <tr style=\"text-align: right;\">\n",
       "      <th></th>\n",
       "      <th>Pregnancies</th>\n",
       "      <th>Glucose</th>\n",
       "      <th>BloodPressure</th>\n",
       "      <th>SkinThickness</th>\n",
       "      <th>Insulin</th>\n",
       "      <th>BMI</th>\n",
       "      <th>DiabetesPedigreeFunction</th>\n",
       "      <th>Age</th>\n",
       "      <th>Outcome</th>\n",
       "    </tr>\n",
       "  </thead>\n",
       "  <tbody>\n",
       "    <tr>\n",
       "      <th>0</th>\n",
       "      <td>6</td>\n",
       "      <td>148</td>\n",
       "      <td>72</td>\n",
       "      <td>35</td>\n",
       "      <td>0</td>\n",
       "      <td>33.6</td>\n",
       "      <td>0.627</td>\n",
       "      <td>50</td>\n",
       "      <td>1</td>\n",
       "    </tr>\n",
       "    <tr>\n",
       "      <th>1</th>\n",
       "      <td>1</td>\n",
       "      <td>85</td>\n",
       "      <td>66</td>\n",
       "      <td>29</td>\n",
       "      <td>0</td>\n",
       "      <td>26.6</td>\n",
       "      <td>0.351</td>\n",
       "      <td>31</td>\n",
       "      <td>0</td>\n",
       "    </tr>\n",
       "    <tr>\n",
       "      <th>2</th>\n",
       "      <td>8</td>\n",
       "      <td>183</td>\n",
       "      <td>64</td>\n",
       "      <td>0</td>\n",
       "      <td>0</td>\n",
       "      <td>23.3</td>\n",
       "      <td>0.672</td>\n",
       "      <td>32</td>\n",
       "      <td>1</td>\n",
       "    </tr>\n",
       "    <tr>\n",
       "      <th>3</th>\n",
       "      <td>1</td>\n",
       "      <td>89</td>\n",
       "      <td>66</td>\n",
       "      <td>23</td>\n",
       "      <td>94</td>\n",
       "      <td>28.1</td>\n",
       "      <td>0.167</td>\n",
       "      <td>21</td>\n",
       "      <td>0</td>\n",
       "    </tr>\n",
       "    <tr>\n",
       "      <th>4</th>\n",
       "      <td>0</td>\n",
       "      <td>137</td>\n",
       "      <td>40</td>\n",
       "      <td>35</td>\n",
       "      <td>168</td>\n",
       "      <td>43.1</td>\n",
       "      <td>2.288</td>\n",
       "      <td>33</td>\n",
       "      <td>1</td>\n",
       "    </tr>\n",
       "  </tbody>\n",
       "</table>\n",
       "</div>"
      ],
      "text/plain": [
       "   Pregnancies  Glucose  BloodPressure  SkinThickness  Insulin   BMI  \\\n",
       "0            6      148             72             35        0  33.6   \n",
       "1            1       85             66             29        0  26.6   \n",
       "2            8      183             64              0        0  23.3   \n",
       "3            1       89             66             23       94  28.1   \n",
       "4            0      137             40             35      168  43.1   \n",
       "\n",
       "   DiabetesPedigreeFunction  Age  Outcome  \n",
       "0                     0.627   50        1  \n",
       "1                     0.351   31        0  \n",
       "2                     0.672   32        1  \n",
       "3                     0.167   21        0  \n",
       "4                     2.288   33        1  "
      ]
     },
     "execution_count": 2,
     "metadata": {},
     "output_type": "execute_result"
    }
   ],
   "source": [
    "df = pd.read_csv(\"PIMA.csv\")\n",
    "df.head()"
   ]
  },
  {
   "cell_type": "code",
   "execution_count": 3,
   "id": "7a12fbea",
   "metadata": {},
   "outputs": [
    {
     "data": {
      "text/plain": [
       "Outcome\n",
       "0    500\n",
       "1    268\n",
       "Name: count, dtype: int64"
      ]
     },
     "execution_count": 3,
     "metadata": {},
     "output_type": "execute_result"
    }
   ],
   "source": [
    "df['Outcome'].value_counts()"
   ]
  },
  {
   "cell_type": "code",
   "execution_count": 4,
   "id": "544d6fc2",
   "metadata": {},
   "outputs": [
    {
     "data": {
      "text/plain": [
       "<AxesSubplot:xlabel='Outcome', ylabel='count'>"
      ]
     },
     "execution_count": 4,
     "metadata": {},
     "output_type": "execute_result"
    },
    {
     "data": {
      "image/png": "[encoded data removed]",
      "text/plain": [
       "<Figure size 432x288 with 1 Axes>"
      ]
     },
     "metadata": {
      "needs_background": "light"
     },
     "output_type": "display_data"
    }
   ],
   "source": [
    "sns.countplot(x='Outcome',data=df)"
   ]
  },
  {
   "cell_type": "code",
   "execution_count": 5,
   "id": "c913570c",
   "metadata": {},
   "outputs": [],
   "source": [
    "from sklearn.utils import resample\n",
    "\n",
    "df_majority = df[(df['Outcome']==0)] \n",
    "df_minority = df[(df['Outcome']==1)] \n",
    "\n",
    "# upsample minority class\n",
    "df_minority_upsampled = resample(df_minority, \n",
    "                                 replace=True,    # sample with replacement\n",
    "                                 n_samples= 91500, # to match majority class\n",
    "                                 random_state=42)  # reproducible results\n",
    "\n",
    "# Combine majority class with upsampled minority class\n",
    "df_upsampled = pd.concat([df_minority_upsampled, df_majority])\n"
   ]
  },
  {
   "cell_type": "code",
   "execution_count": 6,
   "id": "66548f67",
   "metadata": {},
   "outputs": [
    {
     "data": {
      "text/html": [
       "<div>\n",
       "<style scoped>\n",
       "    .dataframe tbody tr th:only-of-type {\n",
       "        vertical-align: middle;\n",
       "    }\n",
       "\n",
       "    .dataframe tbody tr th {\n",
       "        vertical-align: top;\n",
       "    }\n",
       "\n",
       "    .dataframe thead th {\n",
       "        text-align: right;\n",
       "    }\n",
       "</style>\n",
       "<table border=\"1\" class=\"dataframe\">\n",
       "  <thead>\n",
       "    <tr style=\"text-align: right;\">\n",
       "      <th></th>\n",
       "      <th>Pregnancies</th>\n",
       "      <th>Glucose</th>\n",
       "      <th>BloodPressure</th>\n",
       "      <th>SkinThickness</th>\n",
       "      <th>Insulin</th>\n",
       "      <th>BMI</th>\n",
       "      <th>DiabetesPedigreeFunction</th>\n",
       "      <th>Age</th>\n",
       "      <th>Outcome</th>\n",
       "    </tr>\n",
       "  </thead>\n",
       "  <tbody>\n",
       "    <tr>\n",
       "      <th>269</th>\n",
       "      <td>2</td>\n",
       "      <td>146</td>\n",
       "      <td>0</td>\n",
       "      <td>0</td>\n",
       "      <td>0</td>\n",
       "      <td>27.5</td>\n",
       "      <td>0.240</td>\n",
       "      <td>28</td>\n",
       "      <td>1</td>\n",
       "    </tr>\n",
       "    <tr>\n",
       "      <th>283</th>\n",
       "      <td>7</td>\n",
       "      <td>161</td>\n",
       "      <td>86</td>\n",
       "      <td>0</td>\n",
       "      <td>0</td>\n",
       "      <td>30.4</td>\n",
       "      <td>0.165</td>\n",
       "      <td>47</td>\n",
       "      <td>1</td>\n",
       "    </tr>\n",
       "    <tr>\n",
       "      <th>195</th>\n",
       "      <td>5</td>\n",
       "      <td>158</td>\n",
       "      <td>84</td>\n",
       "      <td>41</td>\n",
       "      <td>210</td>\n",
       "      <td>39.4</td>\n",
       "      <td>0.395</td>\n",
       "      <td>29</td>\n",
       "      <td>1</td>\n",
       "    </tr>\n",
       "    <tr>\n",
       "      <th>535</th>\n",
       "      <td>4</td>\n",
       "      <td>132</td>\n",
       "      <td>0</td>\n",
       "      <td>0</td>\n",
       "      <td>0</td>\n",
       "      <td>32.9</td>\n",
       "      <td>0.302</td>\n",
       "      <td>23</td>\n",
       "      <td>1</td>\n",
       "    </tr>\n",
       "    <tr>\n",
       "      <th>38</th>\n",
       "      <td>2</td>\n",
       "      <td>90</td>\n",
       "      <td>68</td>\n",
       "      <td>42</td>\n",
       "      <td>0</td>\n",
       "      <td>38.2</td>\n",
       "      <td>0.503</td>\n",
       "      <td>27</td>\n",
       "      <td>1</td>\n",
       "    </tr>\n",
       "  </tbody>\n",
       "</table>\n",
       "</div>"
      ],
      "text/plain": [
       "     Pregnancies  Glucose  BloodPressure  SkinThickness  Insulin   BMI  \\\n",
       "269            2      146              0              0        0  27.5   \n",
       "283            7      161             86              0        0  30.4   \n",
       "195            5      158             84             41      210  39.4   \n",
       "535            4      132              0              0        0  32.9   \n",
       "38             2       90             68             42        0  38.2   \n",
       "\n",
       "     DiabetesPedigreeFunction  Age  Outcome  \n",
       "269                     0.240   28        1  \n",
       "283                     0.165   47        1  \n",
       "195                     0.395   29        1  \n",
       "535                     0.302   23        1  \n",
       "38                      0.503   27        1  "
      ]
     },
     "execution_count": 6,
     "metadata": {},
     "output_type": "execute_result"
    }
   ],
   "source": [
    "df_upsampled.head()"
   ]
  },
  {
   "cell_type": "code",
   "execution_count": 7,
   "id": "50494d15",
   "metadata": {},
   "outputs": [
    {
     "data": {
      "text/plain": [
       "<AxesSubplot:xlabel='Outcome', ylabel='count'>"
      ]
     },
     "execution_count": 7,
     "metadata": {},
     "output_type": "execute_result"
    },
    {
     "data": {
      "image/png": "[encoded data removed]",
      "text/plain": [
       "<Figure size 432x288 with 1 Axes>"
      ]
     },
     "metadata": {
      "needs_background": "light"
     },
     "output_type": "display_data"
    }
   ],
   "source": [
    "sns.countplot(x='Outcome',data=df_upsampled)"
   ]
  },
  {
   "cell_type": "code",
   "execution_count": 8,
   "id": "e5d287cb",
   "metadata": {},
   "outputs": [
    {
     "data": {
      "text/plain": [
       "Outcome\n",
       "1    91500\n",
       "0      500\n",
       "Name: count, dtype: int64"
      ]
     },
     "execution_count": 8,
     "metadata": {},
     "output_type": "execute_result"
    }
   ],
   "source": [
    "df_upsampled['Outcome'].value_counts()"
   ]
  },
  {
   "cell_type": "code",
   "execution_count": 9,
   "id": "9869b9d4",
   "metadata": {},
   "outputs": [
    {
     "data": {
      "text/html": [
       "<div>\n",
       "<style scoped>\n",
       "    .dataframe tbody tr th:only-of-type {\n",
       "        vertical-align: middle;\n",
       "    }\n",
       "\n",
       "    .dataframe tbody tr th {\n",
       "        vertical-align: top;\n",
       "    }\n",
       "\n",
       "    .dataframe thead th {\n",
       "        text-align: right;\n",
       "    }\n",
       "</style>\n",
       "<table border=\"1\" class=\"dataframe\">\n",
       "  <thead>\n",
       "    <tr style=\"text-align: right;\">\n",
       "      <th></th>\n",
       "      <th>Pregnancies</th>\n",
       "      <th>Glucose</th>\n",
       "      <th>BloodPressure</th>\n",
       "      <th>SkinThickness</th>\n",
       "      <th>Insulin</th>\n",
       "      <th>BMI</th>\n",
       "      <th>DiabetesPedigreeFunction</th>\n",
       "      <th>Age</th>\n",
       "      <th>Outcome</th>\n",
       "    </tr>\n",
       "  </thead>\n",
       "  <tbody>\n",
       "    <tr>\n",
       "      <th>269</th>\n",
       "      <td>2</td>\n",
       "      <td>146</td>\n",
       "      <td>0</td>\n",
       "      <td>0</td>\n",
       "      <td>0</td>\n",
       "      <td>27.5</td>\n",
       "      <td>0.240</td>\n",
       "      <td>28</td>\n",
       "      <td>1</td>\n",
       "    </tr>\n",
       "    <tr>\n",
       "      <th>283</th>\n",
       "      <td>7</td>\n",
       "      <td>161</td>\n",
       "      <td>86</td>\n",
       "      <td>0</td>\n",
       "      <td>0</td>\n",
       "      <td>30.4</td>\n",
       "      <td>0.165</td>\n",
       "      <td>47</td>\n",
       "      <td>1</td>\n",
       "    </tr>\n",
       "    <tr>\n",
       "      <th>195</th>\n",
       "      <td>5</td>\n",
       "      <td>158</td>\n",
       "      <td>84</td>\n",
       "      <td>41</td>\n",
       "      <td>210</td>\n",
       "      <td>39.4</td>\n",
       "      <td>0.395</td>\n",
       "      <td>29</td>\n",
       "      <td>1</td>\n",
       "    </tr>\n",
       "    <tr>\n",
       "      <th>535</th>\n",
       "      <td>4</td>\n",
       "      <td>132</td>\n",
       "      <td>0</td>\n",
       "      <td>0</td>\n",
       "      <td>0</td>\n",
       "      <td>32.9</td>\n",
       "      <td>0.302</td>\n",
       "      <td>23</td>\n",
       "      <td>1</td>\n",
       "    </tr>\n",
       "    <tr>\n",
       "      <th>38</th>\n",
       "      <td>2</td>\n",
       "      <td>90</td>\n",
       "      <td>68</td>\n",
       "      <td>42</td>\n",
       "      <td>0</td>\n",
       "      <td>38.2</td>\n",
       "      <td>0.503</td>\n",
       "      <td>27</td>\n",
       "      <td>1</td>\n",
       "    </tr>\n",
       "  </tbody>\n",
       "</table>\n",
       "</div>"
      ],
      "text/plain": [
       "     Pregnancies  Glucose  BloodPressure  SkinThickness  Insulin   BMI  \\\n",
       "269            2      146              0              0        0  27.5   \n",
       "283            7      161             86              0        0  30.4   \n",
       "195            5      158             84             41      210  39.4   \n",
       "535            4      132              0              0        0  32.9   \n",
       "38             2       90             68             42        0  38.2   \n",
       "\n",
       "     DiabetesPedigreeFunction  Age  Outcome  \n",
       "269                     0.240   28        1  \n",
       "283                     0.165   47        1  \n",
       "195                     0.395   29        1  \n",
       "535                     0.302   23        1  \n",
       "38                      0.503   27        1  "
      ]
     },
     "execution_count": 9,
     "metadata": {},
     "output_type": "execute_result"
    }
   ],
   "source": [
    "df_minority_upsampled.head()"
   ]
  },
  {
   "cell_type": "code",
   "execution_count": 10,
   "id": "24f40914",
   "metadata": {},
   "outputs": [],
   "source": [
    "df_upsampled.replace({'Female':0,'Male':1,'Other':2},inplace=True)"
   ]
  },
  {
   "cell_type": "code",
   "execution_count": 11,
   "id": "8f8e04a9",
   "metadata": {},
   "outputs": [],
   "source": [
    "df_upsampled.replace({'No Info':5,'never':0,'former':2,'current':3,'not current':4,'ever':1},inplace=True)"
   ]
  },
  {
   "cell_type": "code",
   "execution_count": 12,
   "id": "9c142fe7-4cc5-4ca6-9f49-3f2d370f3118",
   "metadata": {},
   "outputs": [],
   "source": [
    "gender_dic = {'Female':0,'Male':1,'Other':2}\n",
    "smoke_dic = {'No Info':5,'never':0,'former':2,'current':3,'not current':4,'ever':1}"
   ]
  },
  {
   "cell_type": "code",
   "execution_count": 13,
   "id": "9109c6ed-c436-4f2a-838f-57a584d463d6",
   "metadata": {},
   "outputs": [
    {
     "data": {
      "text/html": [
       "<div>\n",
       "<style scoped>\n",
       "    .dataframe tbody tr th:only-of-type {\n",
       "        vertical-align: middle;\n",
       "    }\n",
       "\n",
       "    .dataframe tbody tr th {\n",
       "        vertical-align: top;\n",
       "    }\n",
       "\n",
       "    .dataframe thead th {\n",
       "        text-align: right;\n",
       "    }\n",
       "</style>\n",
       "<table border=\"1\" class=\"dataframe\">\n",
       "  <thead>\n",
       "    <tr style=\"text-align: right;\">\n",
       "      <th></th>\n",
       "      <th>Pregnancies</th>\n",
       "      <th>Glucose</th>\n",
       "      <th>BloodPressure</th>\n",
       "      <th>SkinThickness</th>\n",
       "      <th>Insulin</th>\n",
       "      <th>BMI</th>\n",
       "      <th>DiabetesPedigreeFunction</th>\n",
       "      <th>Age</th>\n",
       "      <th>Outcome</th>\n",
       "    </tr>\n",
       "  </thead>\n",
       "  <tbody>\n",
       "    <tr>\n",
       "      <th>269</th>\n",
       "      <td>2</td>\n",
       "      <td>146</td>\n",
       "      <td>0</td>\n",
       "      <td>0</td>\n",
       "      <td>0</td>\n",
       "      <td>27.5</td>\n",
       "      <td>0.240</td>\n",
       "      <td>28</td>\n",
       "      <td>1</td>\n",
       "    </tr>\n",
       "    <tr>\n",
       "      <th>283</th>\n",
       "      <td>7</td>\n",
       "      <td>161</td>\n",
       "      <td>86</td>\n",
       "      <td>0</td>\n",
       "      <td>0</td>\n",
       "      <td>30.4</td>\n",
       "      <td>0.165</td>\n",
       "      <td>47</td>\n",
       "      <td>1</td>\n",
       "    </tr>\n",
       "    <tr>\n",
       "      <th>195</th>\n",
       "      <td>5</td>\n",
       "      <td>158</td>\n",
       "      <td>84</td>\n",
       "      <td>41</td>\n",
       "      <td>210</td>\n",
       "      <td>39.4</td>\n",
       "      <td>0.395</td>\n",
       "      <td>29</td>\n",
       "      <td>1</td>\n",
       "    </tr>\n",
       "    <tr>\n",
       "      <th>535</th>\n",
       "      <td>4</td>\n",
       "      <td>132</td>\n",
       "      <td>0</td>\n",
       "      <td>0</td>\n",
       "      <td>0</td>\n",
       "      <td>32.9</td>\n",
       "      <td>0.302</td>\n",
       "      <td>23</td>\n",
       "      <td>1</td>\n",
       "    </tr>\n",
       "    <tr>\n",
       "      <th>38</th>\n",
       "      <td>2</td>\n",
       "      <td>90</td>\n",
       "      <td>68</td>\n",
       "      <td>42</td>\n",
       "      <td>0</td>\n",
       "      <td>38.2</td>\n",
       "      <td>0.503</td>\n",
       "      <td>27</td>\n",
       "      <td>1</td>\n",
       "    </tr>\n",
       "    <tr>\n",
       "      <th>269</th>\n",
       "      <td>2</td>\n",
       "      <td>146</td>\n",
       "      <td>0</td>\n",
       "      <td>0</td>\n",
       "      <td>0</td>\n",
       "      <td>27.5</td>\n",
       "      <td>0.240</td>\n",
       "      <td>28</td>\n",
       "      <td>1</td>\n",
       "    </tr>\n",
       "    <tr>\n",
       "      <th>314</th>\n",
       "      <td>7</td>\n",
       "      <td>109</td>\n",
       "      <td>80</td>\n",
       "      <td>31</td>\n",
       "      <td>0</td>\n",
       "      <td>35.9</td>\n",
       "      <td>1.127</td>\n",
       "      <td>43</td>\n",
       "      <td>1</td>\n",
       "    </tr>\n",
       "    <tr>\n",
       "      <th>618</th>\n",
       "      <td>9</td>\n",
       "      <td>112</td>\n",
       "      <td>82</td>\n",
       "      <td>24</td>\n",
       "      <td>0</td>\n",
       "      <td>28.2</td>\n",
       "      <td>1.282</td>\n",
       "      <td>50</td>\n",
       "      <td>1</td>\n",
       "    </tr>\n",
       "    <tr>\n",
       "      <th>230</th>\n",
       "      <td>4</td>\n",
       "      <td>142</td>\n",
       "      <td>86</td>\n",
       "      <td>0</td>\n",
       "      <td>0</td>\n",
       "      <td>44.0</td>\n",
       "      <td>0.645</td>\n",
       "      <td>22</td>\n",
       "      <td>1</td>\n",
       "    </tr>\n",
       "    <tr>\n",
       "      <th>261</th>\n",
       "      <td>3</td>\n",
       "      <td>141</td>\n",
       "      <td>0</td>\n",
       "      <td>0</td>\n",
       "      <td>0</td>\n",
       "      <td>30.0</td>\n",
       "      <td>0.761</td>\n",
       "      <td>27</td>\n",
       "      <td>1</td>\n",
       "    </tr>\n",
       "  </tbody>\n",
       "</table>\n",
       "</div>"
      ],
      "text/plain": [
       "     Pregnancies  Glucose  BloodPressure  SkinThickness  Insulin   BMI  \\\n",
       "269            2      146              0              0        0  27.5   \n",
       "283            7      161             86              0        0  30.4   \n",
       "195            5      158             84             41      210  39.4   \n",
       "535            4      132              0              0        0  32.9   \n",
       "38             2       90             68             42        0  38.2   \n",
       "269            2      146              0              0        0  27.5   \n",
       "314            7      109             80             31        0  35.9   \n",
       "618            9      112             82             24        0  28.2   \n",
       "230            4      142             86              0        0  44.0   \n",
       "261            3      141              0              0        0  30.0   \n",
       "\n",
       "     DiabetesPedigreeFunction  Age  Outcome  \n",
       "269                     0.240   28        1  \n",
       "283                     0.165   47        1  \n",
       "195                     0.395   29        1  \n",
       "535                     0.302   23        1  \n",
       "38                      0.503   27        1  \n",
       "269                     0.240   28        1  \n",
       "314                     1.127   43        1  \n",
       "618                     1.282   50        1  \n",
       "230                     0.645   22        1  \n",
       "261                     0.761   27        1  "
      ]
     },
     "execution_count": 13,
     "metadata": {},
     "output_type": "execute_result"
    }
   ],
   "source": [
    "df_upsampled.head(10)"
   ]
  },
  {
   "cell_type": "code",
   "execution_count": 14,
   "id": "a47face7-f17b-444c-a9eb-6c7e3008094e",
   "metadata": {},
   "outputs": [
    {
     "data": {
      "text/plain": [
       "Pregnancies                 92000\n",
       "Glucose                     92000\n",
       "BloodPressure               92000\n",
       "SkinThickness               92000\n",
       "Insulin                     92000\n",
       "BMI                         92000\n",
       "DiabetesPedigreeFunction    92000\n",
       "Age                         92000\n",
       "Outcome                     92000\n",
       "dtype: int64"
      ]
     },
     "execution_count": 14,
     "metadata": {},
     "output_type": "execute_result"
    }
   ],
   "source": [
    "df_upsampled.count()"
   ]
  },
  {
   "cell_type": "code",
   "execution_count": 13,
   "id": "ce6f4ba4-53ae-4759-a73d-c36388c00c68",
   "metadata": {},
   "outputs": [
    {
     "data": {
      "text/html": [
       "<div>\n",
       "<style scoped>\n",
       "    .dataframe tbody tr th:only-of-type {\n",
       "        vertical-align: middle;\n",
       "    }\n",
       "\n",
       "    .dataframe tbody tr th {\n",
       "        vertical-align: top;\n",
       "    }\n",
       "\n",
       "    .dataframe thead th {\n",
       "        text-align: right;\n",
       "    }\n",
       "</style>\n",
       "<table border=\"1\" class=\"dataframe\">\n",
       "  <thead>\n",
       "    <tr style=\"text-align: right;\">\n",
       "      <th></th>\n",
       "      <th>gender</th>\n",
       "      <th>age</th>\n",
       "      <th>hypertension</th>\n",
       "      <th>heart_disease</th>\n",
       "      <th>smoking_history</th>\n",
       "      <th>bmi</th>\n",
       "      <th>HbA1c_level</th>\n",
       "      <th>blood_glucose_level</th>\n",
       "      <th>diabetes</th>\n",
       "    </tr>\n",
       "  </thead>\n",
       "  <tbody>\n",
       "    <tr>\n",
       "      <th>17356</th>\n",
       "      <td>0</td>\n",
       "      <td>57.0</td>\n",
       "      <td>0</td>\n",
       "      <td>1</td>\n",
       "      <td>3</td>\n",
       "      <td>23.89</td>\n",
       "      <td>5.8</td>\n",
       "      <td>240</td>\n",
       "      <td>1</td>\n",
       "    </tr>\n",
       "    <tr>\n",
       "      <th>76192</th>\n",
       "      <td>0</td>\n",
       "      <td>61.0</td>\n",
       "      <td>0</td>\n",
       "      <td>0</td>\n",
       "      <td>2</td>\n",
       "      <td>30.82</td>\n",
       "      <td>8.2</td>\n",
       "      <td>160</td>\n",
       "      <td>1</td>\n",
       "    </tr>\n",
       "    <tr>\n",
       "      <th>60999</th>\n",
       "      <td>1</td>\n",
       "      <td>56.0</td>\n",
       "      <td>0</td>\n",
       "      <td>0</td>\n",
       "      <td>1</td>\n",
       "      <td>32.20</td>\n",
       "      <td>5.7</td>\n",
       "      <td>160</td>\n",
       "      <td>1</td>\n",
       "    </tr>\n",
       "    <tr>\n",
       "      <th>9387</th>\n",
       "      <td>0</td>\n",
       "      <td>63.0</td>\n",
       "      <td>0</td>\n",
       "      <td>1</td>\n",
       "      <td>1</td>\n",
       "      <td>30.12</td>\n",
       "      <td>6.1</td>\n",
       "      <td>145</td>\n",
       "      <td>1</td>\n",
       "    </tr>\n",
       "    <tr>\n",
       "      <th>88960</th>\n",
       "      <td>1</td>\n",
       "      <td>39.0</td>\n",
       "      <td>0</td>\n",
       "      <td>0</td>\n",
       "      <td>0</td>\n",
       "      <td>34.83</td>\n",
       "      <td>6.0</td>\n",
       "      <td>140</td>\n",
       "      <td>1</td>\n",
       "    </tr>\n",
       "    <tr>\n",
       "      <th>68803</th>\n",
       "      <td>0</td>\n",
       "      <td>65.0</td>\n",
       "      <td>0</td>\n",
       "      <td>0</td>\n",
       "      <td>0</td>\n",
       "      <td>31.01</td>\n",
       "      <td>7.0</td>\n",
       "      <td>160</td>\n",
       "      <td>1</td>\n",
       "    </tr>\n",
       "    <tr>\n",
       "      <th>62903</th>\n",
       "      <td>1</td>\n",
       "      <td>80.0</td>\n",
       "      <td>0</td>\n",
       "      <td>0</td>\n",
       "      <td>3</td>\n",
       "      <td>27.98</td>\n",
       "      <td>6.5</td>\n",
       "      <td>200</td>\n",
       "      <td>1</td>\n",
       "    </tr>\n",
       "    <tr>\n",
       "      <th>57438</th>\n",
       "      <td>0</td>\n",
       "      <td>80.0</td>\n",
       "      <td>1</td>\n",
       "      <td>0</td>\n",
       "      <td>0</td>\n",
       "      <td>25.60</td>\n",
       "      <td>8.2</td>\n",
       "      <td>160</td>\n",
       "      <td>1</td>\n",
       "    </tr>\n",
       "    <tr>\n",
       "      <th>2685</th>\n",
       "      <td>1</td>\n",
       "      <td>58.0</td>\n",
       "      <td>0</td>\n",
       "      <td>0</td>\n",
       "      <td>4</td>\n",
       "      <td>27.14</td>\n",
       "      <td>6.6</td>\n",
       "      <td>240</td>\n",
       "      <td>1</td>\n",
       "    </tr>\n",
       "    <tr>\n",
       "      <th>33599</th>\n",
       "      <td>0</td>\n",
       "      <td>50.0</td>\n",
       "      <td>0</td>\n",
       "      <td>0</td>\n",
       "      <td>3</td>\n",
       "      <td>25.90</td>\n",
       "      <td>8.2</td>\n",
       "      <td>155</td>\n",
       "      <td>1</td>\n",
       "    </tr>\n",
       "  </tbody>\n",
       "</table>\n",
       "</div>"
      ],
      "text/plain": [
       "       gender   age  hypertension  heart_disease  smoking_history    bmi  \\\n",
       "17356       0  57.0             0              1                3  23.89   \n",
       "76192       0  61.0             0              0                2  30.82   \n",
       "60999       1  56.0             0              0                1  32.20   \n",
       "9387        0  63.0             0              1                1  30.12   \n",
       "88960       1  39.0             0              0                0  34.83   \n",
       "68803       0  65.0             0              0                0  31.01   \n",
       "62903       1  80.0             0              0                3  27.98   \n",
       "57438       0  80.0             1              0                0  25.60   \n",
       "2685        1  58.0             0              0                4  27.14   \n",
       "33599       0  50.0             0              0                3  25.90   \n",
       "\n",
       "       HbA1c_level  blood_glucose_level  diabetes  \n",
       "17356          5.8                  240         1  \n",
       "76192          8.2                  160         1  \n",
       "60999          5.7                  160         1  \n",
       "9387           6.1                  145         1  \n",
       "88960          6.0                  140         1  \n",
       "68803          7.0                  160         1  \n",
       "62903          6.5                  200         1  \n",
       "57438          8.2                  160         1  \n",
       "2685           6.6                  240         1  \n",
       "33599          8.2                  155         1  "
      ]
     },
     "execution_count": 13,
     "metadata": {},
     "output_type": "execute_result"
    }
   ],
   "source": [
    "df_upsampled.head(10)"
   ]
  },
  {
   "cell_type": "code",
   "execution_count": 14,
   "id": "b5efd084-f428-4495-8d15-a4cf77078cc2",
   "metadata": {},
   "outputs": [
    {
     "data": {
      "text/html": [
       "<div>\n",
       "<style scoped>\n",
       "    .dataframe tbody tr th:only-of-type {\n",
       "        vertical-align: middle;\n",
       "    }\n",
       "\n",
       "    .dataframe tbody tr th {\n",
       "        vertical-align: top;\n",
       "    }\n",
       "\n",
       "    .dataframe thead th {\n",
       "        text-align: right;\n",
       "    }\n",
       "</style>\n",
       "<table border=\"1\" class=\"dataframe\">\n",
       "  <thead>\n",
       "    <tr style=\"text-align: right;\">\n",
       "      <th></th>\n",
       "      <th>gender</th>\n",
       "      <th>age</th>\n",
       "      <th>hypertension</th>\n",
       "      <th>heart_disease</th>\n",
       "      <th>smoking_history</th>\n",
       "      <th>bmi</th>\n",
       "      <th>HbA1c_level</th>\n",
       "      <th>blood_glucose_level</th>\n",
       "    </tr>\n",
       "  </thead>\n",
       "  <tbody>\n",
       "    <tr>\n",
       "      <th>1109</th>\n",
       "      <td>0</td>\n",
       "      <td>70.0</td>\n",
       "      <td>0</td>\n",
       "      <td>0</td>\n",
       "      <td>5</td>\n",
       "      <td>27.32</td>\n",
       "      <td>6.5</td>\n",
       "      <td>100</td>\n",
       "    </tr>\n",
       "    <tr>\n",
       "      <th>7918</th>\n",
       "      <td>0</td>\n",
       "      <td>40.0</td>\n",
       "      <td>0</td>\n",
       "      <td>0</td>\n",
       "      <td>0</td>\n",
       "      <td>23.82</td>\n",
       "      <td>6.5</td>\n",
       "      <td>126</td>\n",
       "    </tr>\n",
       "    <tr>\n",
       "      <th>40646</th>\n",
       "      <td>0</td>\n",
       "      <td>66.0</td>\n",
       "      <td>1</td>\n",
       "      <td>0</td>\n",
       "      <td>4</td>\n",
       "      <td>28.11</td>\n",
       "      <td>5.7</td>\n",
       "      <td>100</td>\n",
       "    </tr>\n",
       "    <tr>\n",
       "      <th>80301</th>\n",
       "      <td>1</td>\n",
       "      <td>73.0</td>\n",
       "      <td>1</td>\n",
       "      <td>0</td>\n",
       "      <td>1</td>\n",
       "      <td>27.32</td>\n",
       "      <td>5.8</td>\n",
       "      <td>200</td>\n",
       "    </tr>\n",
       "    <tr>\n",
       "      <th>32695</th>\n",
       "      <td>0</td>\n",
       "      <td>48.0</td>\n",
       "      <td>0</td>\n",
       "      <td>0</td>\n",
       "      <td>2</td>\n",
       "      <td>30.15</td>\n",
       "      <td>6.6</td>\n",
       "      <td>240</td>\n",
       "    </tr>\n",
       "    <tr>\n",
       "      <th>...</th>\n",
       "      <td>...</td>\n",
       "      <td>...</td>\n",
       "      <td>...</td>\n",
       "      <td>...</td>\n",
       "      <td>...</td>\n",
       "      <td>...</td>\n",
       "      <td>...</td>\n",
       "      <td>...</td>\n",
       "    </tr>\n",
       "    <tr>\n",
       "      <th>19384</th>\n",
       "      <td>0</td>\n",
       "      <td>36.0</td>\n",
       "      <td>0</td>\n",
       "      <td>0</td>\n",
       "      <td>0</td>\n",
       "      <td>22.97</td>\n",
       "      <td>4.8</td>\n",
       "      <td>155</td>\n",
       "    </tr>\n",
       "    <tr>\n",
       "      <th>71297</th>\n",
       "      <td>0</td>\n",
       "      <td>8.0</td>\n",
       "      <td>0</td>\n",
       "      <td>0</td>\n",
       "      <td>0</td>\n",
       "      <td>15.99</td>\n",
       "      <td>6.5</td>\n",
       "      <td>100</td>\n",
       "    </tr>\n",
       "    <tr>\n",
       "      <th>29656</th>\n",
       "      <td>1</td>\n",
       "      <td>50.0</td>\n",
       "      <td>1</td>\n",
       "      <td>1</td>\n",
       "      <td>0</td>\n",
       "      <td>27.49</td>\n",
       "      <td>5.8</td>\n",
       "      <td>140</td>\n",
       "    </tr>\n",
       "    <tr>\n",
       "      <th>60030</th>\n",
       "      <td>1</td>\n",
       "      <td>18.0</td>\n",
       "      <td>0</td>\n",
       "      <td>0</td>\n",
       "      <td>0</td>\n",
       "      <td>24.78</td>\n",
       "      <td>8.2</td>\n",
       "      <td>130</td>\n",
       "    </tr>\n",
       "    <tr>\n",
       "      <th>65862</th>\n",
       "      <td>0</td>\n",
       "      <td>30.0</td>\n",
       "      <td>0</td>\n",
       "      <td>0</td>\n",
       "      <td>5</td>\n",
       "      <td>22.67</td>\n",
       "      <td>6.0</td>\n",
       "      <td>80</td>\n",
       "    </tr>\n",
       "  </tbody>\n",
       "</table>\n",
       "<p>141913 rows × 8 columns</p>\n",
       "</div>"
      ],
      "text/plain": [
       "       gender   age  hypertension  heart_disease  smoking_history    bmi  \\\n",
       "1109        0  70.0             0              0                5  27.32   \n",
       "7918        0  40.0             0              0                0  23.82   \n",
       "40646       0  66.0             1              0                4  28.11   \n",
       "80301       1  73.0             1              0                1  27.32   \n",
       "32695       0  48.0             0              0                2  30.15   \n",
       "...       ...   ...           ...            ...              ...    ...   \n",
       "19384       0  36.0             0              0                0  22.97   \n",
       "71297       0   8.0             0              0                0  15.99   \n",
       "29656       1  50.0             1              1                0  27.49   \n",
       "60030       1  18.0             0              0                0  24.78   \n",
       "65862       0  30.0             0              0                5  22.67   \n",
       "\n",
       "       HbA1c_level  blood_glucose_level  \n",
       "1109           6.5                  100  \n",
       "7918           6.5                  126  \n",
       "40646          5.7                  100  \n",
       "80301          5.8                  200  \n",
       "32695          6.6                  240  \n",
       "...            ...                  ...  \n",
       "19384          4.8                  155  \n",
       "71297          6.5                  100  \n",
       "29656          5.8                  140  \n",
       "60030          8.2                  130  \n",
       "65862          6.0                   80  \n",
       "\n",
       "[141913 rows x 8 columns]"
      ]
     },
     "execution_count": 14,
     "metadata": {},
     "output_type": "execute_result"
    }
   ],
   "source": [
    "# feature importance using Random forest\n",
    "from sklearn.model_selection import train_test_split\n",
    "from sklearn.preprocessing import MinMaxScaler\n",
    "\n",
    "scaler = MinMaxScaler()\n",
    "x_train,x_test,y_train,y_test = train_test_split(df_upsampled.drop('diabetes', axis=1),df_upsampled.diabetes,test_size=0.2, random_state=231)\n",
    "x_train"
   ]
  },
  {
   "cell_type": "code",
   "execution_count": 15,
   "id": "972d7d60-63e2-4836-bdc0-b1de8f02ea31",
   "metadata": {},
   "outputs": [],
   "source": [
    "x_train = scaler.fit_transform(x_train)\n",
    "x_test = scaler.transform(x_test)"
   ]
  },
  {
   "cell_type": "code",
   "execution_count": 16,
   "id": "3273eef6-13d3-4e7c-97a7-121285d2cf7b",
   "metadata": {},
   "outputs": [
    {
     "data": {
      "text/html": [
       "<style>#sk-container-id-1 {color: black;}#sk-container-id-1 pre{padding: 0;}#sk-container-id-1 div.sk-toggleable {background-color: white;}#sk-container-id-1 label.sk-toggleable__label {cursor: pointer;display: block;width: 100%;margin-bottom: 0;padding: 0.3em;box-sizing: border-box;text-align: center;}#sk-container-id-1 label.sk-toggleable__label-arrow:before {content: \"▸\";float: left;margin-right: 0.25em;color: #696969;}#sk-container-id-1 label.sk-toggleable__label-arrow:hover:before {color: black;}#sk-container-id-1 div.sk-estimator:hover label.sk-toggleable__label-arrow:before {color: black;}#sk-container-id-1 div.sk-toggleable__content {max-height: 0;max-width: 0;overflow: hidden;text-align: left;background-color: #f0f8ff;}#sk-container-id-1 div.sk-toggleable__content pre {margin: 0.2em;color: black;border-radius: 0.25em;background-color: #f0f8ff;}#sk-container-id-1 input.sk-toggleable__control:checked~div.sk-toggleable__content {max-height: 200px;max-width: 100%;overflow: auto;}#sk-container-id-1 input.sk-toggleable__control:checked~label.sk-toggleable__label-arrow:before {content: \"▾\";}#sk-container-id-1 div.sk-estimator input.sk-toggleable__control:checked~label.sk-toggleable__label {background-color: #d4ebff;}#sk-container-id-1 div.sk-label input.sk-toggleable__control:checked~label.sk-toggleable__label {background-color: #d4ebff;}#sk-container-id-1 input.sk-hidden--visually {border: 0;clip: rect(1px 1px 1px 1px);clip: rect(1px, 1px, 1px, 1px);height: 1px;margin: -1px;overflow: hidden;padding: 0;position: absolute;width: 1px;}#sk-container-id-1 div.sk-estimator {font-family: monospace;background-color: #f0f8ff;border: 1px dotted black;border-radius: 0.25em;box-sizing: border-box;margin-bottom: 0.5em;}#sk-container-id-1 div.sk-estimator:hover {background-color: #d4ebff;}#sk-container-id-1 div.sk-parallel-item::after {content: \"\";width: 100%;border-bottom: 1px solid gray;flex-grow: 1;}#sk-container-id-1 div.sk-label:hover label.sk-toggleable__label {background-color: #d4ebff;}#sk-container-id-1 div.sk-serial::before {content: \"\";position: absolute;border-left: 1px solid gray;box-sizing: border-box;top: 0;bottom: 0;left: 50%;z-index: 0;}#sk-container-id-1 div.sk-serial {display: flex;flex-direction: column;align-items: center;background-color: white;padding-right: 0.2em;padding-left: 0.2em;position: relative;}#sk-container-id-1 div.sk-item {position: relative;z-index: 1;}#sk-container-id-1 div.sk-parallel {display: flex;align-items: stretch;justify-content: center;background-color: white;position: relative;}#sk-container-id-1 div.sk-item::before, #sk-container-id-1 div.sk-parallel-item::before {content: \"\";position: absolute;border-left: 1px solid gray;box-sizing: border-box;top: 0;bottom: 0;left: 50%;z-index: -1;}#sk-container-id-1 div.sk-parallel-item {display: flex;flex-direction: column;z-index: 1;position: relative;background-color: white;}#sk-container-id-1 div.sk-parallel-item:first-child::after {align-self: flex-end;width: 50%;}#sk-container-id-1 div.sk-parallel-item:last-child::after {align-self: flex-start;width: 50%;}#sk-container-id-1 div.sk-parallel-item:only-child::after {width: 0;}#sk-container-id-1 div.sk-dashed-wrapped {border: 1px dashed gray;margin: 0 0.4em 0.5em 0.4em;box-sizing: border-box;padding-bottom: 0.4em;background-color: white;}#sk-container-id-1 div.sk-label label {font-family: monospace;font-weight: bold;display: inline-block;line-height: 1.2em;}#sk-container-id-1 div.sk-label-container {text-align: center;}#sk-container-id-1 div.sk-container {/* jupyter's `normalize.less` sets `[hidden] { display: none; }` but bootstrap.min.css set `[hidden] { display: none !important; }` so we also need the `!important` here to be able to override the default hidden behavior on the sphinx rendered scikit-learn.org. See: https://github.com/scikit-learn/scikit-learn/issues/21755 */display: inline-block !important;position: relative;}#sk-container-id-1 div.sk-text-repr-fallback {display: none;}</style><div id=\"sk-container-id-1\" class=\"sk-top-container\"><div class=\"sk-text-repr-fallback\"><pre>RandomForestClassifier(random_state=42)</pre><b>In a Jupyter environment, please rerun this cell to show the HTML representation or trust the notebook. <br />On GitHub, the HTML representation is unable to render, please try loading this page with nbviewer.org.</b></div><div class=\"sk-container\" hidden><div class=\"sk-item\"><div class=\"sk-estimator sk-toggleable\"><input class=\"sk-toggleable__control sk-hidden--visually\" id=\"sk-estimator-id-1\" type=\"checkbox\" checked><label for=\"sk-estimator-id-1\" class=\"sk-toggleable__label sk-toggleable__label-arrow\">RandomForestClassifier</label><div class=\"sk-toggleable__content\"><pre>RandomForestClassifier(random_state=42)</pre></div></div></div></div></div>"
      ],
      "text/plain": [
       "RandomForestClassifier(random_state=42)"
      ]
     },
     "execution_count": 16,
     "metadata": {},
     "output_type": "execute_result"
    }
   ],
   "source": [
    "from sklearn.ensemble import RandomForestClassifier\n",
    "rf_model = RandomForestClassifier(n_estimators=100, random_state=42)\n",
    "rf_model.fit(x_train, y_train)"
   ]
  },
  {
   "cell_type": "code",
   "execution_count": 17,
   "id": "cd32654d-32cc-4cf1-aa38-dd294c3cf6ea",
   "metadata": {},
   "outputs": [],
   "source": [
    "y_pred = rf_model.predict(x_test)"
   ]
  },
  {
   "cell_type": "code",
   "execution_count": 18,
   "id": "24c3d772-7b93-4f27-bc2e-decaf74e4bd0",
   "metadata": {},
   "outputs": [
    {
     "name": "stdout",
     "output_type": "stream",
     "text": [
      "Model Accuracy: 0.9935736632937794\n"
     ]
    }
   ],
   "source": [
    "from sklearn.metrics import accuracy_score\n",
    "accuracy = accuracy_score(y_test, y_pred)\n",
    "print(\"Model Accuracy:\", accuracy)"
   ]
  },
  {
   "cell_type": "code",
   "execution_count": 19,
   "id": "91abbe45-a858-42ed-90d0-cede369a7788",
   "metadata": {},
   "outputs": [],
   "source": [
    "feature_importances = rf_model.feature_importances_"
   ]
  },
  {
   "cell_type": "code",
   "execution_count": 20,
   "id": "3bbbe71f-2566-4c43-a81f-0a695babb111",
   "metadata": {},
   "outputs": [
    {
     "data": {
      "text/plain": [
       "array([0.0078517 , 0.2433034 , 0.02125231, 0.01181266, 0.03549418,\n",
       "       0.13040659, 0.32406493, 0.22581423])"
      ]
     },
     "execution_count": 20,
     "metadata": {},
     "output_type": "execute_result"
    }
   ],
   "source": [
    "feature_importances"
   ]
  },
  {
   "cell_type": "code",
   "execution_count": 21,
   "id": "b27cf3c1-3afe-44d8-8114-1a032e4424ea",
   "metadata": {},
   "outputs": [
    {
     "data": {
      "text/html": [
       "<div>\n",
       "<style scoped>\n",
       "    .dataframe tbody tr th:only-of-type {\n",
       "        vertical-align: middle;\n",
       "    }\n",
       "\n",
       "    .dataframe tbody tr th {\n",
       "        vertical-align: top;\n",
       "    }\n",
       "\n",
       "    .dataframe thead th {\n",
       "        text-align: right;\n",
       "    }\n",
       "</style>\n",
       "<table border=\"1\" class=\"dataframe\">\n",
       "  <thead>\n",
       "    <tr style=\"text-align: right;\">\n",
       "      <th></th>\n",
       "      <th>Feature</th>\n",
       "      <th>Importance</th>\n",
       "    </tr>\n",
       "  </thead>\n",
       "  <tbody>\n",
       "    <tr>\n",
       "      <th>6</th>\n",
       "      <td>HbA1c_level</td>\n",
       "      <td>0.324065</td>\n",
       "    </tr>\n",
       "    <tr>\n",
       "      <th>1</th>\n",
       "      <td>age</td>\n",
       "      <td>0.243303</td>\n",
       "    </tr>\n",
       "    <tr>\n",
       "      <th>7</th>\n",
       "      <td>blood_glucose_level</td>\n",
       "      <td>0.225814</td>\n",
       "    </tr>\n",
       "    <tr>\n",
       "      <th>5</th>\n",
       "      <td>bmi</td>\n",
       "      <td>0.130407</td>\n",
       "    </tr>\n",
       "    <tr>\n",
       "      <th>4</th>\n",
       "      <td>smoking_history</td>\n",
       "      <td>0.035494</td>\n",
       "    </tr>\n",
       "    <tr>\n",
       "      <th>2</th>\n",
       "      <td>hypertension</td>\n",
       "      <td>0.021252</td>\n",
       "    </tr>\n",
       "    <tr>\n",
       "      <th>3</th>\n",
       "      <td>heart_disease</td>\n",
       "      <td>0.011813</td>\n",
       "    </tr>\n",
       "    <tr>\n",
       "      <th>0</th>\n",
       "      <td>gender</td>\n",
       "      <td>0.007852</td>\n",
       "    </tr>\n",
       "  </tbody>\n",
       "</table>\n",
       "</div>"
      ],
      "text/plain": [
       "               Feature  Importance\n",
       "6          HbA1c_level    0.324065\n",
       "1                  age    0.243303\n",
       "7  blood_glucose_level    0.225814\n",
       "5                  bmi    0.130407\n",
       "4      smoking_history    0.035494\n",
       "2         hypertension    0.021252\n",
       "3        heart_disease    0.011813\n",
       "0               gender    0.007852"
      ]
     },
     "execution_count": 21,
     "metadata": {},
     "output_type": "execute_result"
    }
   ],
   "source": [
    "feature_importance_df = pd.DataFrame({'Feature': df.drop('diabetes', axis=1).columns, 'Importance': feature_importances})\n",
    "\n",
    "feature_importance_df = feature_importance_df.sort_values(by='Importance', ascending=False)\n",
    "feature_importance_df"
   ]
  },
  {
   "cell_type": "code",
   "execution_count": 22,
   "id": "aae46259-fb17-4afa-8b9c-170d0b8bad4b",
   "metadata": {},
   "outputs": [
    {
     "data": {
      "text/html": [
       "<div>\n",
       "<style scoped>\n",
       "    .dataframe tbody tr th:only-of-type {\n",
       "        vertical-align: middle;\n",
       "    }\n",
       "\n",
       "    .dataframe tbody tr th {\n",
       "        vertical-align: top;\n",
       "    }\n",
       "\n",
       "    .dataframe thead th {\n",
       "        text-align: right;\n",
       "    }\n",
       "</style>\n",
       "<table border=\"1\" class=\"dataframe\">\n",
       "  <thead>\n",
       "    <tr style=\"text-align: right;\">\n",
       "      <th></th>\n",
       "      <th>HbA1c_level</th>\n",
       "      <th>blood_glucose_level</th>\n",
       "      <th>age</th>\n",
       "      <th>bmi</th>\n",
       "      <th>diabetes</th>\n",
       "    </tr>\n",
       "  </thead>\n",
       "  <tbody>\n",
       "    <tr>\n",
       "      <th>17356</th>\n",
       "      <td>5.8</td>\n",
       "      <td>240</td>\n",
       "      <td>57.0</td>\n",
       "      <td>23.89</td>\n",
       "      <td>1</td>\n",
       "    </tr>\n",
       "    <tr>\n",
       "      <th>76192</th>\n",
       "      <td>8.2</td>\n",
       "      <td>160</td>\n",
       "      <td>61.0</td>\n",
       "      <td>30.82</td>\n",
       "      <td>1</td>\n",
       "    </tr>\n",
       "    <tr>\n",
       "      <th>60999</th>\n",
       "      <td>5.7</td>\n",
       "      <td>160</td>\n",
       "      <td>56.0</td>\n",
       "      <td>32.20</td>\n",
       "      <td>1</td>\n",
       "    </tr>\n",
       "    <tr>\n",
       "      <th>9387</th>\n",
       "      <td>6.1</td>\n",
       "      <td>145</td>\n",
       "      <td>63.0</td>\n",
       "      <td>30.12</td>\n",
       "      <td>1</td>\n",
       "    </tr>\n",
       "    <tr>\n",
       "      <th>88960</th>\n",
       "      <td>6.0</td>\n",
       "      <td>140</td>\n",
       "      <td>39.0</td>\n",
       "      <td>34.83</td>\n",
       "      <td>1</td>\n",
       "    </tr>\n",
       "  </tbody>\n",
       "</table>\n",
       "</div>"
      ],
      "text/plain": [
       "       HbA1c_level  blood_glucose_level   age    bmi  diabetes\n",
       "17356          5.8                  240  57.0  23.89         1\n",
       "76192          8.2                  160  61.0  30.82         1\n",
       "60999          5.7                  160  56.0  32.20         1\n",
       "9387           6.1                  145  63.0  30.12         1\n",
       "88960          6.0                  140  39.0  34.83         1"
      ]
     },
     "execution_count": 22,
     "metadata": {},
     "output_type": "execute_result"
    }
   ],
   "source": [
    "df_features = df_upsampled[['HbA1c_level','blood_glucose_level','age','bmi','diabetes']]\n",
    "df_features.head()"
   ]
  },
  {
   "cell_type": "code",
   "execution_count": 23,
   "id": "496b1d3c-a27c-4cb9-996e-7f89b8dc0856",
   "metadata": {},
   "outputs": [
    {
     "data": {
      "text/plain": [
       "HbA1c_level            177392\n",
       "blood_glucose_level    177392\n",
       "age                    177392\n",
       "bmi                    177392\n",
       "diabetes               177392\n",
       "dtype: int64"
      ]
     },
     "execution_count": 23,
     "metadata": {},
     "output_type": "execute_result"
    }
   ],
   "source": [
    "df_features.count()"
   ]
  },
  {
   "cell_type": "code",
   "execution_count": 27,
   "id": "54bed2f2-7d8e-4b73-916a-10200e98a7ff",
   "metadata": {},
   "outputs": [],
   "source": [
    "# scaling data for ann"
   ]
  },
  {
   "cell_type": "code",
   "execution_count": 24,
   "id": "94e67640",
   "metadata": {},
   "outputs": [],
   "source": [
    "X = df_features.drop('diabetes',axis=1).values\n",
    "y = df_features['diabetes'].values"
   ]
  },
  {
   "cell_type": "code",
   "execution_count": 25,
   "id": "43dd1932",
   "metadata": {},
   "outputs": [],
   "source": [
    "X_train, X_test, y_train, y_test = train_test_split(X,y,test_size=0.2,random_state=11)"
   ]
  },
  {
   "cell_type": "code",
   "execution_count": 26,
   "id": "b1dce693",
   "metadata": {},
   "outputs": [],
   "source": [
    "X_train = scaler.fit_transform(X_train)"
   ]
  },
  {
   "cell_type": "code",
   "execution_count": 27,
   "id": "d64eb090",
   "metadata": {},
   "outputs": [],
   "source": [
    "X_test = scaler.transform(X_test)"
   ]
  },
  {
   "cell_type": "code",
   "execution_count": 28,
   "id": "f8b3a8f0",
   "metadata": {},
   "outputs": [],
   "source": [
    "from tensorflow.keras.models import Sequential\n",
    "from tensorflow.keras.layers import Dense, Activation,Dropout"
   ]
  },
  {
   "cell_type": "code",
   "execution_count": 29,
   "id": "92804f6a",
   "metadata": {},
   "outputs": [
    {
     "data": {
      "text/plain": [
       "(141913, 4)"
      ]
     },
     "execution_count": 29,
     "metadata": {},
     "output_type": "execute_result"
    }
   ],
   "source": [
    "X_train.shape"
   ]
  },
  {
   "cell_type": "code",
   "execution_count": 30,
   "id": "685a122d",
   "metadata": {},
   "outputs": [],
   "source": [
    "model = Sequential()\n",
    "model.add(Dense(units=8,activation='relu'))\n",
    "model.add(Dense(units=8,activation='relu'))\n",
    "model.add(Dense(units=8,activation='relu'))\n",
    "model.add(Dense(units=8,activation='relu'))\n",
    "model.add(Dense(units=1,activation='sigmoid'))\n",
    "model.compile(loss='binary_crossentropy', optimizer='adam',metrics=['accuracy'])"
   ]
  },
  {
   "cell_type": "code",
   "execution_count": 31,
   "id": "74da16fc",
   "metadata": {},
   "outputs": [],
   "source": [
    "from tensorflow.keras.callbacks import EarlyStopping"
   ]
  },
  {
   "cell_type": "code",
   "execution_count": 32,
   "id": "9c0a7de0",
   "metadata": {},
   "outputs": [],
   "source": [
    "early_stop = EarlyStopping(monitor='accuracy', mode='max', verbose=1, patience=25)"
   ]
  },
  {
   "cell_type": "code",
   "execution_count": 33,
   "id": "20d4999d",
   "metadata": {},
   "outputs": [
    {
     "name": "stdout",
     "output_type": "stream",
     "text": [
      "Epoch 1/600\n",
      "4435/4435 [==============================] - 14s 3ms/step - loss: 0.3222 - accuracy: 0.8552 - val_loss: 0.2850 - val_accuracy: 0.8717\n",
      "Epoch 2/600\n",
      "4435/4435 [==============================] - 11s 2ms/step - loss: 0.2838 - accuracy: 0.8720 - val_loss: 0.2801 - val_accuracy: 0.8733\n",
      "Epoch 3/600\n",
      "4435/4435 [==============================] - 11s 3ms/step - loss: 0.2782 - accuracy: 0.8745 - val_loss: 0.2764 - val_accuracy: 0.8732\n",
      "Epoch 4/600\n",
      "4435/4435 [==============================] - 11s 3ms/step - loss: 0.2751 - accuracy: 0.8755 - val_loss: 0.2732 - val_accuracy: 0.8756\n",
      "Epoch 5/600\n",
      "4435/4435 [==============================] - 11s 2ms/step - loss: 0.2735 - accuracy: 0.8757 - val_loss: 0.2722 - val_accuracy: 0.8757\n",
      "Epoch 6/600\n",
      "4435/4435 [==============================] - 11s 3ms/step - loss: 0.2724 - accuracy: 0.8758 - val_loss: 0.2710 - val_accuracy: 0.8768\n",
      "Epoch 7/600\n",
      "4435/4435 [==============================] - 12s 3ms/step - loss: 0.2713 - accuracy: 0.8758 - val_loss: 0.2698 - val_accuracy: 0.8749\n",
      "Epoch 8/600\n",
      "4435/4435 [==============================] - 11s 3ms/step - loss: 0.2702 - accuracy: 0.8766 - val_loss: 0.2685 - val_accuracy: 0.8767\n",
      "Epoch 9/600\n",
      "4435/4435 [==============================] - 11s 3ms/step - loss: 0.2692 - accuracy: 0.8767 - val_loss: 0.2746 - val_accuracy: 0.8705\n",
      "Epoch 10/600\n",
      "4435/4435 [==============================] - 11s 3ms/step - loss: 0.2685 - accuracy: 0.8768 - val_loss: 0.2700 - val_accuracy: 0.8749\n",
      "Epoch 11/600\n",
      "4435/4435 [==============================] - 12s 3ms/step - loss: 0.2682 - accuracy: 0.8774 - val_loss: 0.2699 - val_accuracy: 0.8744\n",
      "Epoch 12/600\n",
      "4435/4435 [==============================] - 13s 3ms/step - loss: 0.2671 - accuracy: 0.8775 - val_loss: 0.2717 - val_accuracy: 0.8725\n",
      "Epoch 13/600\n",
      "4435/4435 [==============================] - 11s 3ms/step - loss: 0.2620 - accuracy: 0.8794 - val_loss: 0.2571 - val_accuracy: 0.8810\n",
      "Epoch 14/600\n",
      "4435/4435 [==============================] - 12s 3ms/step - loss: 0.2565 - accuracy: 0.8813 - val_loss: 0.2690 - val_accuracy: 0.8749\n",
      "Epoch 15/600\n",
      "4435/4435 [==============================] - 13s 3ms/step - loss: 0.2528 - accuracy: 0.8826 - val_loss: 0.2513 - val_accuracy: 0.8826\n",
      "Epoch 16/600\n",
      "4435/4435 [==============================] - 12s 3ms/step - loss: 0.2509 - accuracy: 0.8834 - val_loss: 0.2487 - val_accuracy: 0.8833\n",
      "Epoch 17/600\n",
      "4435/4435 [==============================] - 12s 3ms/step - loss: 0.2497 - accuracy: 0.8839 - val_loss: 0.2471 - val_accuracy: 0.8829\n",
      "Epoch 18/600\n",
      "4435/4435 [==============================] - 11s 3ms/step - loss: 0.2488 - accuracy: 0.8838 - val_loss: 0.2602 - val_accuracy: 0.8788\n",
      "Epoch 19/600\n",
      "4435/4435 [==============================] - 11s 3ms/step - loss: 0.2481 - accuracy: 0.8834 - val_loss: 0.2542 - val_accuracy: 0.8777\n",
      "Epoch 20/600\n",
      "4435/4435 [==============================] - 11s 3ms/step - loss: 0.2476 - accuracy: 0.8842 - val_loss: 0.2535 - val_accuracy: 0.8780\n",
      "Epoch 21/600\n",
      "4435/4435 [==============================] - 11s 3ms/step - loss: 0.2468 - accuracy: 0.8847 - val_loss: 0.2458 - val_accuracy: 0.8824\n",
      "Epoch 22/600\n",
      "4435/4435 [==============================] - 11s 3ms/step - loss: 0.2462 - accuracy: 0.8845 - val_loss: 0.2461 - val_accuracy: 0.8821\n",
      "Epoch 23/600\n",
      "4435/4435 [==============================] - 11s 3ms/step - loss: 0.2460 - accuracy: 0.8845 - val_loss: 0.2456 - val_accuracy: 0.8832\n",
      "Epoch 24/600\n",
      "4435/4435 [==============================] - 12s 3ms/step - loss: 0.2453 - accuracy: 0.8841 - val_loss: 0.2444 - val_accuracy: 0.8835\n",
      "Epoch 25/600\n",
      "4435/4435 [==============================] - 11s 3ms/step - loss: 0.2446 - accuracy: 0.8848 - val_loss: 0.2584 - val_accuracy: 0.8724\n",
      "Epoch 26/600\n",
      "4435/4435 [==============================] - 11s 3ms/step - loss: 0.2435 - accuracy: 0.8847 - val_loss: 0.2438 - val_accuracy: 0.8832\n",
      "Epoch 27/600\n",
      "4435/4435 [==============================] - 12s 3ms/step - loss: 0.2432 - accuracy: 0.8851 - val_loss: 0.2504 - val_accuracy: 0.8826\n",
      "Epoch 28/600\n",
      "4435/4435 [==============================] - 11s 3ms/step - loss: 0.2431 - accuracy: 0.8846 - val_loss: 0.2451 - val_accuracy: 0.8816\n",
      "Epoch 29/600\n",
      "4435/4435 [==============================] - 11s 3ms/step - loss: 0.2428 - accuracy: 0.8850 - val_loss: 0.2455 - val_accuracy: 0.8829\n",
      "Epoch 30/600\n",
      "4435/4435 [==============================] - 11s 3ms/step - loss: 0.2423 - accuracy: 0.8850 - val_loss: 0.2419 - val_accuracy: 0.8822\n",
      "Epoch 31/600\n",
      "4435/4435 [==============================] - 11s 3ms/step - loss: 0.2423 - accuracy: 0.8854 - val_loss: 0.2424 - val_accuracy: 0.8819\n",
      "Epoch 32/600\n",
      "4435/4435 [==============================] - 11s 3ms/step - loss: 0.2420 - accuracy: 0.8854 - val_loss: 0.2428 - val_accuracy: 0.8816\n",
      "Epoch 33/600\n",
      "4435/4435 [==============================] - 11s 3ms/step - loss: 0.2418 - accuracy: 0.8856 - val_loss: 0.2421 - val_accuracy: 0.8818\n",
      "Epoch 34/600\n",
      "4435/4435 [==============================] - 11s 3ms/step - loss: 0.2419 - accuracy: 0.8858 - val_loss: 0.2425 - val_accuracy: 0.8834\n",
      "Epoch 35/600\n",
      "4435/4435 [==============================] - 13s 3ms/step - loss: 0.2419 - accuracy: 0.8860 - val_loss: 0.2420 - val_accuracy: 0.8824\n",
      "Epoch 36/600\n",
      "4435/4435 [==============================] - 12s 3ms/step - loss: 0.2415 - accuracy: 0.8855 - val_loss: 0.2417 - val_accuracy: 0.8827\n",
      "Epoch 37/600\n",
      "4435/4435 [==============================] - 12s 3ms/step - loss: 0.2417 - accuracy: 0.8855 - val_loss: 0.2416 - val_accuracy: 0.8824\n",
      "Epoch 38/600\n",
      "4435/4435 [==============================] - 11s 3ms/step - loss: 0.2415 - accuracy: 0.8853 - val_loss: 0.2435 - val_accuracy: 0.8844\n",
      "Epoch 39/600\n",
      "4435/4435 [==============================] - 11s 3ms/step - loss: 0.2413 - accuracy: 0.8862 - val_loss: 0.2417 - val_accuracy: 0.8823\n",
      "Epoch 40/600\n",
      "4435/4435 [==============================] - 11s 2ms/step - loss: 0.2411 - accuracy: 0.8859 - val_loss: 0.2438 - val_accuracy: 0.8841\n",
      "Epoch 41/600\n",
      "4435/4435 [==============================] - 12s 3ms/step - loss: 0.2411 - accuracy: 0.8864 - val_loss: 0.2436 - val_accuracy: 0.8816\n",
      "Epoch 42/600\n",
      "4435/4435 [==============================] - 11s 3ms/step - loss: 0.2412 - accuracy: 0.8861 - val_loss: 0.2414 - val_accuracy: 0.8833\n",
      "Epoch 43/600\n",
      "4435/4435 [==============================] - 11s 2ms/step - loss: 0.2408 - accuracy: 0.8861 - val_loss: 0.2443 - val_accuracy: 0.8818\n",
      "Epoch 44/600\n",
      "4435/4435 [==============================] - 12s 3ms/step - loss: 0.2410 - accuracy: 0.8864 - val_loss: 0.2419 - val_accuracy: 0.8842\n",
      "Epoch 45/600\n",
      "4435/4435 [==============================] - 11s 3ms/step - loss: 0.2406 - accuracy: 0.8859 - val_loss: 0.2430 - val_accuracy: 0.8818\n",
      "Epoch 46/600\n",
      "4435/4435 [==============================] - 11s 3ms/step - loss: 0.2409 - accuracy: 0.8862 - val_loss: 0.2425 - val_accuracy: 0.8839\n",
      "Epoch 47/600\n",
      "4435/4435 [==============================] - 13s 3ms/step - loss: 0.2408 - accuracy: 0.8861 - val_loss: 0.2431 - val_accuracy: 0.8857\n",
      "Epoch 48/600\n",
      "4435/4435 [==============================] - 19s 4ms/step - loss: 0.2409 - accuracy: 0.8858 - val_loss: 0.2434 - val_accuracy: 0.8810\n",
      "Epoch 49/600\n",
      "4435/4435 [==============================] - 23s 5ms/step - loss: 0.2405 - accuracy: 0.8866 - val_loss: 0.2418 - val_accuracy: 0.8822\n",
      "Epoch 50/600\n",
      "4435/4435 [==============================] - 19s 4ms/step - loss: 0.2406 - accuracy: 0.8858 - val_loss: 0.2416 - val_accuracy: 0.8832\n",
      "Epoch 51/600\n",
      "4435/4435 [==============================] - 18s 4ms/step - loss: 0.2403 - accuracy: 0.8862 - val_loss: 0.2446 - val_accuracy: 0.8841\n",
      "Epoch 52/600\n",
      "4435/4435 [==============================] - 19s 4ms/step - loss: 0.2409 - accuracy: 0.8857 - val_loss: 0.2473 - val_accuracy: 0.8837\n",
      "Epoch 53/600\n",
      "4435/4435 [==============================] - 19s 4ms/step - loss: 0.2414 - accuracy: 0.8858 - val_loss: 0.2437 - val_accuracy: 0.8810\n",
      "Epoch 54/600\n",
      "4435/4435 [==============================] - 16s 4ms/step - loss: 0.2404 - accuracy: 0.8857 - val_loss: 0.2414 - val_accuracy: 0.8829\n",
      "Epoch 55/600\n",
      "4435/4435 [==============================] - 12s 3ms/step - loss: 0.2405 - accuracy: 0.8863 - val_loss: 0.2415 - val_accuracy: 0.8826\n",
      "Epoch 56/600\n",
      "4435/4435 [==============================] - 11s 3ms/step - loss: 0.2404 - accuracy: 0.8859 - val_loss: 0.2434 - val_accuracy: 0.8810\n",
      "Epoch 57/600\n",
      "4435/4435 [==============================] - 11s 3ms/step - loss: 0.2408 - accuracy: 0.8855 - val_loss: 0.2428 - val_accuracy: 0.8815\n",
      "Epoch 58/600\n",
      "4435/4435 [==============================] - 15s 3ms/step - loss: 0.2403 - accuracy: 0.8863 - val_loss: 0.2411 - val_accuracy: 0.8829\n",
      "Epoch 59/600\n",
      "4435/4435 [==============================] - 19s 4ms/step - loss: 0.2400 - accuracy: 0.8861 - val_loss: 0.2425 - val_accuracy: 0.8819\n",
      "Epoch 60/600\n",
      "4435/4435 [==============================] - 19s 4ms/step - loss: 0.2402 - accuracy: 0.8861 - val_loss: 0.2415 - val_accuracy: 0.8831\n",
      "Epoch 61/600\n",
      "4435/4435 [==============================] - 14s 3ms/step - loss: 0.2405 - accuracy: 0.8861 - val_loss: 0.2445 - val_accuracy: 0.8842\n",
      "Epoch 62/600\n",
      "4435/4435 [==============================] - 12s 3ms/step - loss: 0.2406 - accuracy: 0.8860 - val_loss: 0.2429 - val_accuracy: 0.8839\n",
      "Epoch 63/600\n",
      "4435/4435 [==============================] - 11s 3ms/step - loss: 0.2401 - accuracy: 0.8861 - val_loss: 0.2439 - val_accuracy: 0.8842\n",
      "Epoch 64/600\n",
      "4435/4435 [==============================] - 12s 3ms/step - loss: 0.2402 - accuracy: 0.8856 - val_loss: 0.2419 - val_accuracy: 0.8807\n",
      "Epoch 65/600\n",
      "4435/4435 [==============================] - 12s 3ms/step - loss: 0.2402 - accuracy: 0.8856 - val_loss: 0.2432 - val_accuracy: 0.8842\n",
      "Epoch 66/600\n",
      "4435/4435 [==============================] - 12s 3ms/step - loss: 0.2402 - accuracy: 0.8858 - val_loss: 0.2426 - val_accuracy: 0.8819\n",
      "Epoch 67/600\n",
      "4435/4435 [==============================] - 12s 3ms/step - loss: 0.2400 - accuracy: 0.8856 - val_loss: 0.2434 - val_accuracy: 0.8811\n",
      "Epoch 68/600\n",
      "4435/4435 [==============================] - 12s 3ms/step - loss: 0.2407 - accuracy: 0.8861 - val_loss: 0.2414 - val_accuracy: 0.8838\n",
      "Epoch 69/600\n",
      "4435/4435 [==============================] - 12s 3ms/step - loss: 0.2403 - accuracy: 0.8861 - val_loss: 0.2415 - val_accuracy: 0.8820\n",
      "Epoch 70/600\n",
      "4435/4435 [==============================] - 12s 3ms/step - loss: 0.2402 - accuracy: 0.8860 - val_loss: 0.2416 - val_accuracy: 0.8822\n",
      "Epoch 71/600\n",
      "4435/4435 [==============================] - 12s 3ms/step - loss: 0.2403 - accuracy: 0.8861 - val_loss: 0.2432 - val_accuracy: 0.8812\n",
      "Epoch 72/600\n",
      "4435/4435 [==============================] - 16s 4ms/step - loss: 0.2402 - accuracy: 0.8858 - val_loss: 0.2415 - val_accuracy: 0.8821\n",
      "Epoch 73/600\n",
      "4435/4435 [==============================] - 19s 4ms/step - loss: 0.2406 - accuracy: 0.8860 - val_loss: 0.2411 - val_accuracy: 0.8826\n",
      "Epoch 74/600\n",
      "4435/4435 [==============================] - 19s 4ms/step - loss: 0.2401 - accuracy: 0.8859 - val_loss: 0.2415 - val_accuracy: 0.8818\n",
      "Epoch 74: early stopping\n"
     ]
    },
    {
     "data": {
      "text/plain": [
       "<keras.src.callbacks.History at 0x1d52c88eee0>"
      ]
     },
     "execution_count": 33,
     "metadata": {},
     "output_type": "execute_result"
    }
   ],
   "source": [
    "model.fit(x=X_train, \n",
    "          y=y_train, \n",
    "          epochs=600,\n",
    "          validation_data=(X_test, y_test), verbose=1,\n",
    "          callbacks=[early_stop]\n",
    "          )"
   ]
  },
  {
   "cell_type": "code",
   "execution_count": 34,
   "id": "beac0ed2",
   "metadata": {},
   "outputs": [
    {
     "data": {
      "text/plain": [
       "[<matplotlib.lines.Line2D at 0x1d52ecf8160>,\n",
       " <matplotlib.lines.Line2D at 0x1d52ecf8190>,\n",
       " <matplotlib.lines.Line2D at 0x1d52ecf8250>,\n",
       " <matplotlib.lines.Line2D at 0x1d52ecf8310>]"
      ]
     },
     "execution_count": 34,
     "metadata": {},
     "output_type": "execute_result"
    },
    {
     "data": {
      "image/png": "[encoded data removed]",
      "text/plain": [
       "<Figure size 432x288 with 1 Axes>"
      ]
     },
     "metadata": {
      "needs_background": "light"
     },
     "output_type": "display_data"
    }
   ],
   "source": [
    "losses = pd.DataFrame(model.history.history)\n",
    "plt.plot(losses)"
   ]
  },
  {
   "cell_type": "code",
   "execution_count": 35,
   "id": "8a6359ce",
   "metadata": {},
   "outputs": [
    {
     "name": "stdout",
     "output_type": "stream",
     "text": [
      "1109/1109 [==============================] - 3s 2ms/step\n"
     ]
    }
   ],
   "source": [
    "import numpy as np\n",
    "predict_x=model.predict(X_test) "
   ]
  },
  {
   "cell_type": "code",
   "execution_count": 36,
   "id": "88bdbd8f-c16a-42ee-9b60-c15cb3bf22c9",
   "metadata": {},
   "outputs": [
    {
     "data": {
      "text/plain": [
       "array([[9.9988425e-01],\n",
       "       [9.3836015e-08],\n",
       "       [5.0335491e-01],\n",
       "       ...,\n",
       "       [5.7817197e-01],\n",
       "       [6.9425225e-01],\n",
       "       [7.5933760e-01]], dtype=float32)"
      ]
     },
     "execution_count": 36,
     "metadata": {},
     "output_type": "execute_result"
    }
   ],
   "source": [
    "predict_x"
   ]
  },
  {
   "cell_type": "code",
   "execution_count": 37,
   "id": "963e0a28",
   "metadata": {},
   "outputs": [],
   "source": [
    "import numpy as np\n",
    "\n",
    "threshold = 0.5\n",
    "binary_predictions = np.where(predict_x >= threshold, 1, 0)"
   ]
  },
  {
   "cell_type": "code",
   "execution_count": 38,
   "id": "8edbc236",
   "metadata": {},
   "outputs": [],
   "source": [
    "from sklearn.metrics import classification_report,confusion_matrix,explained_variance_score"
   ]
  },
  {
   "cell_type": "code",
   "execution_count": 39,
   "id": "82d3c741",
   "metadata": {},
   "outputs": [
    {
     "data": {
      "text/plain": [
       "0.5320632482846483"
      ]
     },
     "execution_count": 39,
     "metadata": {},
     "output_type": "execute_result"
    }
   ],
   "source": [
    "explained_variance_score(y_test,binary_predictions)"
   ]
  },
  {
   "cell_type": "code",
   "execution_count": 40,
   "id": "927db058",
   "metadata": {},
   "outputs": [
    {
     "name": "stdout",
     "output_type": "stream",
     "text": [
      "              precision    recall  f1-score   support\n",
      "\n",
      "           0       0.91      0.84      0.87     17145\n",
      "           1       0.86      0.92      0.89     18334\n",
      "\n",
      "    accuracy                           0.88     35479\n",
      "   macro avg       0.88      0.88      0.88     35479\n",
      "weighted avg       0.88      0.88      0.88     35479\n",
      "\n"
     ]
    }
   ],
   "source": [
    "print(classification_report(y_test,binary_predictions))"
   ]
  },
  {
   "cell_type": "code",
   "execution_count": 41,
   "id": "98c969ec",
   "metadata": {},
   "outputs": [
    {
     "name": "stdout",
     "output_type": "stream",
     "text": [
      "[[14409  2736]\n",
      " [ 1456 16878]]\n"
     ]
    }
   ],
   "source": [
    "print(confusion_matrix(y_test,binary_predictions))"
   ]
  },
  {
   "cell_type": "code",
   "execution_count": 42,
   "id": "19e918a9",
   "metadata": {},
   "outputs": [
    {
     "data": {
      "image/png": "[encoded data removed]",
      "text/plain": [
       "<Figure size 432x288 with 1 Axes>"
      ]
     },
     "metadata": {
      "needs_background": "light"
     },
     "output_type": "display_data"
    }
   ],
   "source": [
    "ax = sns.heatmap(confusion_matrix(y_test,binary_predictions), annot=True, xticklabels=[\"No Diabetes\",'Diabetes'], yticklabels=['No Diabetes','Diabetes'],\n",
    "                cbar=False,cmap='Blues')\n",
    "ax.set_xlabel('Prediction')\n",
    "ax.set_ylabel('Actual')\n",
    "plt.show()"
   ]
  },
  {
   "cell_type": "code",
   "execution_count": 43,
   "id": "27aab9b8",
   "metadata": {},
   "outputs": [],
   "source": [
    "import pickle\n",
    "with open('mypickle.pkl', 'wb') as f:\n",
    "    pickle.dump(model, f)"
   ]
  }
 ],
 "metadata": {
  "kernelspec": {
   "display_name": "Python 3 (ipykernel)",
   "language": "python",
   "name": "python3"
  },
  "language_info": {
   "codemirror_mode": {
    "name": "ipython",
    "version": 3
   },
   "file_extension": ".py",
   "mimetype": "text/x-python",
   "name": "python",
   "nbconvert_exporter": "python",
   "pygments_lexer": "ipython3",
   "version": "3.9.1"
  }
 },
 "nbformat": 4,
 "nbformat_minor": 5
}
